{
 "cells": [
  {
   "cell_type": "code",
   "execution_count": 3,
   "metadata": {},
   "outputs": [],
   "source": [
    "import re\n",
    "\n",
    "## A repeated application of a regular pattern about outgoing Acts, within a line\n",
    "def actsInSingleLine(line):\n",
    "    line=line.replace(\"The\", \"the\")\n",
    "    try:\n",
    "        found=re.search('the (.+?) Act (.+?) \\(c. (.+?)\\)', line[line.rfind(\"the\"):])\n",
    "        if(found==None):\n",
    "            if(('the' in line) and ('Act' in line)):\n",
    "                if(line.rindex('the')<line.index('Act')-30):\n",
    "                    found=re.search('the (.+?) Act (\\d\\d\\d\\d) ', line[line.index(\"the\")+1:])\n",
    "                    if(found is None):\n",
    "                        found=re.search('the (.+?) Act (\\d\\d\\d\\d)', line[line.rindex(\"the\"):])\n",
    "                else:\n",
    "                    found=re.search('the (.+?) Act (\\d\\d\\d\\d) ', line[line.rindex(\"the\"):])\n",
    "                    if(found is None):\n",
    "                        found=re.search('the (.+?) Act (\\d\\d\\d\\d)', line[line.rindex(\"the\"):])\n",
    "                        if(found is None):\n",
    "                            found=re.search('the (.+?) Act (\\d\\d\\d\\d)', line[line.index(\"the\"):])\n",
    "            else:\n",
    "                found=''\n",
    "    except AttributeError:\n",
    "        found=''\n",
    "    if(found=='None'):\n",
    "        return ''\n",
    "    else:\n",
    "        if(hasattr(found, 'group')):\n",
    "            if(found.group(0)=='None'):\n",
    "                return ''\n",
    "            else:\n",
    "                temp=found.group(0);\n",
    "                print(temp)\n",
    "                return found;\n",
    "        else:\n",
    "            return found\n"
   ]
  },
  {
   "cell_type": "code",
   "execution_count": 14,
   "metadata": {},
   "outputs": [
    {
     "name": "stdout",
     "output_type": "stream",
     "text": [
      "the Housing Act 1985 (c. 68)\n",
      "the Housing Act 1985 (c. 68)\n",
      "the Crime and Disorder Act 1998 (c. 37)\n",
      "the Housing Grants, Construction and Regeneration Act 1996 (c. 53)\n",
      "the Caravan Sites and Control of Development Act 1960\n",
      "the Housing Act 1985 \n",
      "the Housing Act 1985\n",
      "unit_tests pass\n"
     ]
    }
   ],
   "source": [
    "def unit_tests():\n",
    "#    section_74_16=\"In this Chapter any reference to “the house”, in relation to an interim or final management order that relates to property let in breach of a banning order under section 16 of the Housing and Planning Act 2016, means the property let in breach of that order.\"\n",
    "    section_1_2b=\"replaces the existing system based on the test of fitness for human habitation contained in section 604 of the Housing Act 1985 (c. 68).\"\n",
    "    actsInSingleLine(section_1_2b)\n",
    "    text=\"Part 9 of the Housing Act 1985 (c. 68) (demolition orders and slum clearance);\"\n",
    "    actsInSingleLine(text)\n",
    "    text=\"section 115(2) of the Crime and Disorder Act 1998 (c. 37) after paragraph (d) insert—\"\n",
    "    actsInSingleLine(text)\n",
    "    text=\"The Housing Grants, Construction and Regeneration Act 1996 (c. 53) is amended as follows.\"\n",
    "    actsInSingleLine(text)\n",
    "    text=\"the Caravan Sites and Control of Development Act 1960\"\n",
    "    actsInSingleLine(text) \n",
    "    text=\"section 268 of the Housing Act 1985 (service of copies of demolition orders),\"\n",
    "    actsInSingleLine(text) \n",
    "    text=\"Subsection (5) applies where, under section 308 of the Housing Act 1985 (c. 68) (owner’s re-development proposals), the local housing authority have approved proposals for the re-development of land.\"\n",
    "    actsInSingleLine(text) \n",
    "    return 'unit_tests pass'\n",
    "\n",
    "print(unit_tests())"
   ]
  },
  {
   "cell_type": "code",
   "execution_count": null,
   "metadata": {},
   "outputs": [],
   "source": []
  }
 ],
 "metadata": {
  "kernelspec": {
   "display_name": "Python 3",
   "language": "python",
   "name": "python3"
  },
  "language_info": {
   "codemirror_mode": {
    "name": "ipython",
    "version": 3
   },
   "file_extension": ".py",
   "mimetype": "text/x-python",
   "name": "python",
   "nbconvert_exporter": "python",
   "pygments_lexer": "ipython3",
   "version": "3.8.3"
  }
 },
 "nbformat": 4,
 "nbformat_minor": 4
}
