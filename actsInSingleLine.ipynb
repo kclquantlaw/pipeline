{
 "cells": [
  {
   "cell_type": "code",
   "execution_count": 18,
   "metadata": {},
   "outputs": [],
   "source": [
    "def actsInSingleLine(line):\n",
    "    line = line.replace(\"The\", \"the\")\n",
    "    act_pattern = r'the (.+?) Act (\\d{4})'\n",
    "    section_pattern = r'section\\s+(\\S+)\\s+of the (.+?) (\\d{4})'\n",
    "    found_act = re.search(act_pattern, line)\n",
    "    found_section = re.search(section_pattern, line)\n",
    "    \n",
    "    if found_section:\n",
    "        section_num = found_section.group(1)\n",
    "        act_name = found_section.group(2) + ' ' + found_section.group(3)\n",
    "    elif found_act:\n",
    "        section_num = None\n",
    "        act_name = found_act.group(1) + ' ' + found_act.group(2)\n",
    "    else:\n",
    "        section_num = None\n",
    "        act_name = None\n",
    "    \n",
    "    return (act_name, section_num)\n"
   ]
  },
  {
   "cell_type": "code",
   "execution_count": 19,
   "metadata": {},
   "outputs": [
    {
     "name": "stdout",
     "output_type": "stream",
     "text": [
      "('Housing Act 1985', '604')\n",
      "('Housing 1985', None)\n",
      "('Crime and Disorder Act 1998', '115(2)')\n",
      "('Housing Grants, Construction and Regeneration 1996', None)\n",
      "('Caravan Sites and Control of Development 1960', None)\n",
      "('Housing Act 1985', '268')\n",
      "('Housing Act 1985', '308')\n"
     ]
    }
   ],
   "source": [
    "section_1_2b=\"replaces the existing system based on the test of fitness for human habitation contained in section 604 of the Housing Act 1985 (c. 68).\"\n",
    "print(actsInSingleLine(section_1_2b))\n",
    "text=\"Part 9 of the Housing Act 1985 (c. 68) (demolition orders and slum clearance);\"\n",
    "print(actsInSingleLine(text))\n",
    "text=\"section 115(2) of the Crime and Disorder Act 1998 (c. 37) after paragraph (d) insert—\"\n",
    "print(actsInSingleLine(text))\n",
    "text=\"The Housing Grants, Construction and Regeneration Act 1996 (c. 53) is amended as follows.\"\n",
    "print(actsInSingleLine(text))\n",
    "text=\"the Caravan Sites and Control of Development Act 1960\"\n",
    "print(actsInSingleLine(text))\n",
    "text=\"section 268 of the Housing Act 1985 (service of copies of demolition orders),\"\n",
    "print(actsInSingleLine(text))\n",
    "text=\"Subsection (5) applies where, under section 308 of the Housing Act 1985 (c. 68) (owner’s re-development proposals), the local housing authority have approved proposals for the re-development of land.\"\n",
    "print(actsInSingleLine(text))\n"
   ]
  },
  {
   "cell_type": "code",
   "execution_count": 20,
   "metadata": {},
   "outputs": [],
   "source": [
    "import re\n",
    "\n",
    "## A repeated application of a regular pattern about outgoing Acts, within a line\n",
    "def actsInSingleLinev1_0(line):\n",
    "    line=line.replace(\"The\", \"the\")\n",
    "    try:\n",
    "        found=re.search('the (.+?) Act (.+?) \\(c. (.+?)\\)', line[line.rfind(\"the\"):])\n",
    "        if(found==None):\n",
    "            if(('the' in line) and ('Act' in line)):\n",
    "                if(line.rindex('the')<line.index('Act')-30):\n",
    "                    found=re.search('the (.+?) Act (\\d\\d\\d\\d) ', line[line.index(\"the\")+1:])\n",
    "                    if(found is None):\n",
    "                        found=re.search('the (.+?) Act (\\d\\d\\d\\d)', line[line.rindex(\"the\"):])\n",
    "                else:\n",
    "                    found=re.search('the (.+?) Act (\\d\\d\\d\\d) ', line[line.rindex(\"the\"):])\n",
    "                    if(found is None):\n",
    "                        found=re.search('the (.+?) Act (\\d\\d\\d\\d)', line[line.rindex(\"the\"):])\n",
    "                        if(found is None):\n",
    "                            found=re.search('the (.+?) Act (\\d\\d\\d\\d)', line[line.index(\"the\"):])\n",
    "            else:\n",
    "                found=''\n",
    "    except AttributeError:\n",
    "        found=''\n",
    "    if(found=='None'):\n",
    "        return ''\n",
    "    else:\n",
    "        if(hasattr(found, 'group')):\n",
    "            if(found.group(0)=='None'):\n",
    "                return ''\n",
    "            else:\n",
    "                temp=found.group(0);\n",
    "                print(temp)\n",
    "                return found;\n",
    "        else:\n",
    "            return found\n"
   ]
  },
  {
   "cell_type": "code",
   "execution_count": 21,
   "metadata": {},
   "outputs": [
    {
     "name": "stdout",
     "output_type": "stream",
     "text": [
      "the Housing Act 1985 (c. 68)\n",
      "the Housing Act 1985 (c. 68)\n",
      "the Crime and Disorder Act 1998 (c. 37)\n",
      "the Housing Grants, Construction and Regeneration Act 1996 (c. 53)\n",
      "the Caravan Sites and Control of Development Act 1960\n",
      "the Housing Act 1985 \n",
      "the Housing Act 1985\n",
      "unit_tests pass\n"
     ]
    }
   ],
   "source": [
    "def unit_tests():\n",
    "#    section_74_16=\"In this Chapter any reference to “the house”, in relation to an interim or final management order that relates to property let in breach of a banning order under section 16 of the Housing and Planning Act 2016, means the property let in breach of that order.\"\n",
    "    section_1_2b=\"replaces the existing system based on the test of fitness for human habitation contained in section 604 of the Housing Act 1985 (c. 68).\"\n",
    "    actsInSingleLinev1_0(section_1_2b)\n",
    "    text=\"Part 9 of the Housing Act 1985 (c. 68) (demolition orders and slum clearance);\"\n",
    "    actsInSingleLinev1_0(text)\n",
    "    text=\"section 115(2) of the Crime and Disorder Act 1998 (c. 37) after paragraph (d) insert—\"\n",
    "    actsInSingleLinev1_0(text)\n",
    "    text=\"The Housing Grants, Construction and Regeneration Act 1996 (c. 53) is amended as follows.\"\n",
    "    actsInSingleLinev1_0(text)\n",
    "    text=\"the Caravan Sites and Control of Development Act 1960\"\n",
    "    actsInSingleLinev1_0(text) \n",
    "    text=\"section 268 of the Housing Act 1985 (service of copies of demolition orders),\"\n",
    "    actsInSingleLinev1_0(text) \n",
    "    text=\"Subsection (5) applies where, under section 308 of the Housing Act 1985 (c. 68) (owner’s re-development proposals), the local housing authority have approved proposals for the re-development of land.\"\n",
    "    actsInSingleLinev1_0(text) \n",
    "    return 'unit_tests pass'\n",
    "\n",
    "print(unit_tests())\n"
   ]
  },
  {
   "cell_type": "code",
   "execution_count": null,
   "metadata": {},
   "outputs": [],
   "source": []
  },
  {
   "cell_type": "code",
   "execution_count": null,
   "metadata": {},
   "outputs": [],
   "source": []
  }
 ],
 "metadata": {
  "kernelspec": {
   "display_name": "Python 3",
   "language": "python",
   "name": "python3"
  },
  "language_info": {
   "codemirror_mode": {
    "name": "ipython",
    "version": 3
   },
   "file_extension": ".py",
   "mimetype": "text/x-python",
   "name": "python",
   "nbconvert_exporter": "python",
   "pygments_lexer": "ipython3",
   "version": "3.8.3"
  }
 },
 "nbformat": 4,
 "nbformat_minor": 4
}
